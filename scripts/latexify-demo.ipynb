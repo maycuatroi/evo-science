{
 "cells": [
  {
   "cell_type": "code",
   "id": "initial_id",
   "metadata": {
    "collapsed": true,
    "ExecuteTime": {
     "end_time": "2024-04-26T02:49:28.016131Z",
     "start_time": "2024-04-26T02:49:28.013189Z"
    }
   },
   "source": [
    "import latexify\n",
    "import numpy as np\n",
    "\n",
    "import math \n",
    "from evo_science.entities.metrics import f1_score"
   ],
   "outputs": [],
   "execution_count": 24
  },
  {
   "metadata": {
    "ExecuteTime": {
     "end_time": "2024-04-26T02:49:57.708847Z",
     "start_time": "2024-04-26T02:49:57.704805Z"
    }
   },
   "cell_type": "code",
   "source": [
    "\n",
    "@latexify.function\n",
    "def ave(y_true, y_pred):\n",
    "    # using math module\n",
    "    return  sum([y_true[i] - y_pred[i] for i in range(len(y_true))]) / len(y_true)\n",
    "ave"
   ],
   "id": "42fbcea7dc0029f5",
   "outputs": [
    {
     "data": {
      "text/plain": [
       "<latexify.ipython_wrappers.LatexifiedFunction at 0x7f1d0fc76be0>"
      ],
      "text/latex": "$$ \\displaystyle \\mathrm{ave}(\\mathrm{y\\_true}, \\mathrm{y\\_pred}) = \\frac{\\sum \\mathopen{}\\left[ \\mathrm{y\\_true}_{i} - \\mathrm{y\\_pred}_{i} \\mid i \\in \\mathrm{range} \\mathopen{}\\left( \\mathrm{len} \\mathopen{}\\left( \\mathrm{y\\_true} \\mathclose{}\\right) \\mathclose{}\\right) \\mathclose{}\\right]}{\\mathrm{len} \\mathopen{}\\left( \\mathrm{y\\_true} \\mathclose{}\\right)} $$"
     },
     "execution_count": 26,
     "metadata": {},
     "output_type": "execute_result"
    }
   ],
   "execution_count": 26
  },
  {
   "metadata": {
    "ExecuteTime": {
     "end_time": "2024-04-26T02:48:39.038929Z",
     "start_time": "2024-04-26T02:48:39.035110Z"
    }
   },
   "cell_type": "code",
   "source": [
    "@latexify.function\n",
    "def estd(y_true, y_pred):\n",
    "    return (y_true - y_pred).std()\n",
    "estd"
   ],
   "id": "ca2df5e31a297d11",
   "outputs": [
    {
     "data": {
      "text/plain": [
       "<latexify.ipython_wrappers.LatexifiedAlgorithm at 0x7f1d0fc38610>"
      ],
      "text/latex": "$ \\begin{array}{l} \\mathbf{function} \\ \\mathrm{estd}(\\mathrm{y\\_true}, \\mathrm{y\\_pred}) \\\\ \\hspace{1em} \\mathbf{return} \\ \\mathrm{y\\_true} - \\mathrm{y\\_pred}.\\mathrm{std} \\mathopen{}\\left( \\mathclose{}\\right) \\\\ \\mathbf{end \\ function} \\end{array} $"
     },
     "execution_count": 23,
     "metadata": {},
     "output_type": "execute_result"
    }
   ],
   "execution_count": 23
  },
  {
   "metadata": {
    "ExecuteTime": {
     "end_time": "2024-04-26T02:45:28.126296Z",
     "start_time": "2024-04-26T02:45:28.122628Z"
    }
   },
   "cell_type": "code",
   "source": [
    "@latexify.function\n",
    "def mae(y_true, y_pred):\n",
    "    return np.mean(np.abs(y_true - y_pred))\n",
    "mae"
   ],
   "id": "d61b6874e9b99725",
   "outputs": [
    {
     "data": {
      "text/plain": [
       "<latexify.ipython_wrappers.LatexifiedFunction at 0x7f1d0ff89dc0>"
      ],
      "text/latex": "$$ \\displaystyle \\mathrm{mae}(\\mathrm{y\\_true}, \\mathrm{y\\_pred}) = \\mathrm{np}.\\mathrm{mean} \\mathopen{}\\left( \\mathopen{}\\left| \\mathrm{y\\_true} - \\mathrm{y\\_pred} \\mathclose{}\\right| \\mathclose{}\\right) $$"
     },
     "execution_count": 22,
     "metadata": {},
     "output_type": "execute_result"
    }
   ],
   "execution_count": 22
  }
 ],
 "metadata": {
  "kernelspec": {
   "display_name": "Python 3",
   "language": "python",
   "name": "python3"
  },
  "language_info": {
   "codemirror_mode": {
    "name": "ipython",
    "version": 2
   },
   "file_extension": ".py",
   "mimetype": "text/x-python",
   "name": "python",
   "nbconvert_exporter": "python",
   "pygments_lexer": "ipython2",
   "version": "2.7.6"
  }
 },
 "nbformat": 4,
 "nbformat_minor": 5
}
